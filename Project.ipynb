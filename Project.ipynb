import mysql.connector
from mysql.connector import Error

try:
    # إنشاء الاتصال بقاعدة البيانات
    connection = mysql.connector.connect(
        host="localhost",            # عنوان الخادم (عادة localhost)
        user="root",                 # اسم المستخدم (عادة root)
        password="my-secret-pw",     # كلمة مرور المستخدم (استبدلها بكلمة مرورك)
        database="testdb"            # اسم قاعدة البيانات (كما تم إنشاؤها في MySQL)
    )

    # التحقق من الاتصال
    if connection.is_connected():
        print("تم الاتصال بنجاح بقاعدة البيانات!")

        # إنشاء كائن cursor لتنفيذ الاستعلامات
        cursor = connection.cursor()

        # تنفيذ استعلام لقراءة البيانات من جدول "users"
        cursor.execute("SELECT * FROM users")

        # جلب جميع النتائج من الاستعلام
        results = cursor.fetchall()

        # طباعة النتائج
        if results:
            for row in results:
                print(f"id: {row[0]}, Name: {row[1]}, Age: {row[2]}")
        else:
            print("لا توجد بيانات في الجدول.")

except Error as e:
    print(f"حدث خطأ: {e}")

finally:
    # التأكد من إغلاق الاتصال في النهاية
    if connection.is_connected():
        cursor.close()   # إغلاق الكائن cursor
        connection.close()  # إغلاق الاتصال بقاعدة البيانات
        print("تم إغلاق الاتصال بقاعدة البيانات.")
